{
 "cells": [
  {
   "cell_type": "markdown",
   "metadata": {},
   "source": [
    "# Ransom Note:"
   ]
  },
  {
   "cell_type": "code",
   "execution_count": 6,
   "metadata": {},
   "outputs": [
    {
     "name": "stdout",
     "output_type": "stream",
     "text": [
      "6 4\n",
      "give me one grand today night\n",
      "me today some\n",
      "No\n"
     ]
    }
   ],
   "source": [
    "from collections import Counter\n",
    "def checkMagazine(magazine, ransom):\n",
    "    ran = Counter(ransom)\n",
    "    mag = Counter(magazine)\n",
    "    if (len(ran-mag)==0):\n",
    "        print(\"Yes\")\n",
    "    else:\n",
    "        print(\"No\")\n",
    "if __name__ == '__main__':\n",
    "    \n",
    "    m,n=map(int,input().split())\n",
    "    magazine=input()\n",
    "    note=input()\n",
    "    #magazine= input().rstrip().split()      \n",
    "    #note=input().rstrip().split()\n",
    "    checkMagazine(magazine, note)"
   ]
  },
  {
   "cell_type": "markdown",
   "metadata": {},
   "source": [
    "# Two Strings Comparison:"
   ]
  },
  {
   "cell_type": "code",
   "execution_count": 13,
   "metadata": {},
   "outputs": [
    {
     "name": "stdout",
     "output_type": "stream",
     "text": [
      "2\n",
      "hello\n",
      "world\n",
      "YES\n",
      "hi\n",
      "world\n",
      "NO\n"
     ]
    }
   ],
   "source": [
    "def twoStrings(s1, s2):\n",
    "    return 'YES' if set(s1) & set(s2) else 'NO'\n",
    "if __name__ == '__main__':\n",
    "    q = int(input())\n",
    "\n",
    "    for q_itr in range(q):\n",
    "        s1 = input()\n",
    "\n",
    "        s2 = input()\n",
    "\n",
    "        result = twoStrings(s1, s2)\n",
    "        print(result)"
   ]
  }
 ],
 "metadata": {
  "kernelspec": {
   "display_name": "Python 3",
   "language": "python",
   "name": "python3"
  },
  "language_info": {
   "codemirror_mode": {
    "name": "ipython",
    "version": 3
   },
   "file_extension": ".py",
   "mimetype": "text/x-python",
   "name": "python",
   "nbconvert_exporter": "python",
   "pygments_lexer": "ipython3",
   "version": "3.7.3"
  }
 },
 "nbformat": 4,
 "nbformat_minor": 2
}
