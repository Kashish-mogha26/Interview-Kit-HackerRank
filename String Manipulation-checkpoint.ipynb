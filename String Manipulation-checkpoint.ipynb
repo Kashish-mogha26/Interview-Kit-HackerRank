{
 "cells": [
  {
   "cell_type": "markdown",
   "metadata": {},
   "source": [
    "# Alternating Characters:"
   ]
  },
  {
   "cell_type": "code",
   "execution_count": 1,
   "metadata": {},
   "outputs": [
    {
     "name": "stdout",
     "output_type": "stream",
     "text": [
      "AAABBB\n",
      "4\n"
     ]
    }
   ],
   "source": [
    "f=input()\n",
    "l=len(f)\n",
    "count=0\n",
    "i=0\n",
    "for j in range(1,l):\n",
    "    if (f[i]==f[j]):\n",
    "        count=count+1\n",
    "    i=i+1\n",
    "print(count)       "
   ]
  },
  {
   "cell_type": "markdown",
   "metadata": {},
   "source": [
    "# Making Anagrams:"
   ]
  },
  {
   "cell_type": "code",
   "execution_count": 3,
   "metadata": {},
   "outputs": [
    {
     "name": "stdout",
     "output_type": "stream",
     "text": [
      "fcrxzwscanmligyxyvym\n",
      "jxwtrhvujlmrpdoqbisbwhmgpmeoke\n",
      "jthujrpdoqbbwhpmeoke\n",
      "['r', 'x', 'w', 's', 'm', 'l', 'i', 'g', 'v', 'm']\n",
      "30\n"
     ]
    }
   ],
   "source": [
    "f=input()\n",
    "s=input()\n",
    "t=len(s)\n",
    "a=[]\n",
    "for i in f:\n",
    "    for j in s:\n",
    "        if i==j:\n",
    "            a.append(i)\n",
    "            s=s.replace(i,'',1)\n",
    "            break\n",
    "print(s)\n",
    "print(a)\n",
    "L=(len(f)-len(a))+(t-len(a))\n",
    "print(L)\n"
   ]
  },
  {
   "cell_type": "markdown",
   "metadata": {},
   "source": [
    "# Making Anagarams (2nd method):"
   ]
  },
  {
   "cell_type": "code",
   "execution_count": 19,
   "metadata": {},
   "outputs": [
    {
     "name": "stdout",
     "output_type": "stream",
     "text": [
      "2\n"
     ]
    }
   ],
   "source": [
    "a='showman'\n",
    "b='woman'\n",
    "letterArray = [0] * 26\n",
    "for c in a:\n",
    "    index = ord(c) - ord('a');\n",
    "    letterArray[index]+=1\n",
    "for c in b:\n",
    "    index = ord(c) - ord('a')\n",
    "    letterArray[index]-=1\n",
    "result = 0\n",
    "for i in letterArray:\n",
    "        result += abs(i)\n",
    "print (result)"
   ]
  },
  {
   "cell_type": "markdown",
   "metadata": {},
   "source": [
    "# Sherlock and the valid string"
   ]
  },
  {
   "cell_type": "code",
   "execution_count": 21,
   "metadata": {},
   "outputs": [
    {
     "name": "stdout",
     "output_type": "stream",
     "text": [
      "kkaamm\n",
      "YES\n"
     ]
    }
   ],
   "source": [
    "    s=input()\n",
    "    freq = [s.count(letter) for letter in set(s) ]\n",
    "    if max(freq)-min(freq) == 0:\n",
    "        print('YES')\n",
    "    elif freq.count(max(freq)) == 1 and max(freq) - min(freq) == 1:\n",
    "        print('YES')\n",
    "    elif freq.count(min(freq)) == 1:\n",
    "        freq.remove(min(freq))\n",
    "        if max(freq)-min(freq) == 0:\n",
    "            print('YES')\n",
    "        else:\n",
    "            print('NO')\n",
    "    else:\n",
    "        print('NO')"
   ]
  },
  {
   "cell_type": "markdown",
   "metadata": {},
   "source": [
    "# Special string again"
   ]
  },
  {
   "cell_type": "code",
   "execution_count": 6,
   "metadata": {},
   "outputs": [
    {
     "name": "stdout",
     "output_type": "stream",
     "text": [
      "8\n",
      "mnonopoo\n",
      "12\n"
     ]
    }
   ],
   "source": [
    "n=int(input())\n",
    "s=input()\n",
    "count = len(s)\n",
    "for i, char in enumerate(s):\n",
    "    diff_char_idx = None\n",
    "    for j in range(i+1, n):\n",
    "        if char == s[j]:\n",
    "            if diff_char_idx is None:\n",
    "                count +=1\n",
    "            elif j - diff_char_idx == diff_char_idx - i:\n",
    "                count += 1\n",
    "                break\n",
    "        else:\n",
    "            if diff_char_idx is None:\n",
    "                diff_char_idx = j\n",
    "            else:\n",
    "                break\n",
    "print(count)"
   ]
  },
  {
   "cell_type": "markdown",
   "metadata": {},
   "source": [
    "# Common child"
   ]
  },
  {
   "cell_type": "code",
   "execution_count": 2,
   "metadata": {},
   "outputs": [
    {
     "name": "stdout",
     "output_type": "stream",
     "text": [
      "SHINCHAN\n",
      "NOHARAAA\n",
      "3\n"
     ]
    }
   ],
   "source": [
    "s1=input()\n",
    "s2=input()\n",
    "n, m = len(s1), len(s2)\n",
    "lcs = [[0] * (m + 1) for _ in range(n + 1)]\n",
    "for i, c1 in enumerate(s1):\n",
    "    for j, c2 in enumerate(s2):\n",
    "        if c1 == c2:\n",
    "            lcs[i][j] = lcs[i - 1][j - 1] + 1\n",
    "        else:\n",
    "            lcs[i][j] = max(lcs[i][j - 1], lcs[i - 1][j])\n",
    "\n",
    "print (lcs[n - 1][m - 1])\n"
   ]
  }
 ],
 "metadata": {
  "kernelspec": {
   "display_name": "Python 3",
   "language": "python",
   "name": "python3"
  },
  "language_info": {
   "codemirror_mode": {
    "name": "ipython",
    "version": 3
   },
   "file_extension": ".py",
   "mimetype": "text/x-python",
   "name": "python",
   "nbconvert_exporter": "python",
   "pygments_lexer": "ipython3",
   "version": "3.7.3"
  }
 },
 "nbformat": 4,
 "nbformat_minor": 2
}
