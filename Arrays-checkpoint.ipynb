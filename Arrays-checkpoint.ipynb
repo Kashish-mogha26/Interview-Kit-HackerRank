{
 "cells": [
  {
   "cell_type": "markdown",
   "metadata": {},
   "source": [
    "# Reversing of array:"
   ]
  },
  {
   "cell_type": "code",
   "execution_count": 13,
   "metadata": {},
   "outputs": [
    {
     "name": "stdout",
     "output_type": "stream",
     "text": [
      "4\n",
      "6 8 1 0\n",
      "0 1 8 6\n"
     ]
    }
   ],
   "source": [
    "arrcount=int(input())\n",
    "arr=list(map(int,input().split()))\n",
    "arr.reverse()\n",
    "print(*arr)"
   ]
  },
  {
   "cell_type": "markdown",
   "metadata": {},
   "source": [
    "# Hourglass problem(2d array):"
   ]
  },
  {
   "cell_type": "code",
   "execution_count": 3,
   "metadata": {},
   "outputs": [
    {
     "name": "stdout",
     "output_type": "stream",
     "text": [
      "6\n",
      "1 1 1 0 0 0\n",
      "2 1 6 0 0 1\n",
      "2 8 1 1 1 0\n",
      "2 7 8 9 1 0\n",
      "1 0 1 0 1 0\n",
      "2 9 0 0 0 0\n",
      "34\n"
     ]
    }
   ],
   "source": [
    "def hourglassSum(arr):\n",
    "    maxSum = -63\n",
    "    \n",
    "    for i in range(4):\n",
    "        for j in range(4):\n",
    "        \n",
    "            # sum of top 3 elements\n",
    "            top = sum(arr[i][j:j+3])\n",
    "            \n",
    "            # sum of the mid element\n",
    "            mid = arr[i+1][j+1]\n",
    "            \n",
    "            # sum of bottom 3 elements\n",
    "            bottom = sum(arr[i+2][j:j+3])\n",
    "            \n",
    "            hourglass = top + mid + bottom\n",
    "            \n",
    "            if hourglass > maxSum:\n",
    "                maxSum = hourglass\n",
    "                \n",
    "    return maxSum\n",
    "if __name__ =='__main__':\n",
    "    n=int(input())\n",
    "    arr=[]\n",
    "    for i in range(n):\n",
    "        arr.append(list(map(int,input().split())))\n",
    "    result = hourglassSum(arr)\n",
    "    print(result)"
   ]
  },
  {
   "cell_type": "markdown",
   "metadata": {},
   "source": [
    "# Left Rotation:"
   ]
  },
  {
   "cell_type": "code",
   "execution_count": 4,
   "metadata": {},
   "outputs": [
    {
     "name": "stdout",
     "output_type": "stream",
     "text": [
      "6 4\n",
      "8 1 0 3 6 5\n",
      "6 5 8 1 0 3\n"
     ]
    }
   ],
   "source": [
    "N, d = map(int, input().split())\n",
    "a = list(input().split())\n",
    "r = a[d % N : N] + a[0 : d % N]\n",
    "print(*r)"
   ]
  },
  {
   "cell_type": "markdown",
   "metadata": {},
   "source": [
    "# Sparsing of array:"
   ]
  },
  {
   "cell_type": "code",
   "execution_count": 4,
   "metadata": {},
   "outputs": [
    {
     "name": "stdout",
     "output_type": "stream",
     "text": [
      "4\n",
      "tyh\n",
      "ujk\n",
      "tyh\n",
      "tyh\n",
      "3\n",
      "tyh\n",
      "jkl\n",
      "ujk\n",
      "1\n"
     ]
    }
   ],
   "source": [
    "n = int(input())\n",
    "arr=[]\n",
    "for i in range(n):\n",
    "    arr.append(input())\n",
    "m = int(input())\n",
    "for i in range(m):\n",
    "    query=input()\n",
    "    count=0\n",
    "    for i in range(n):\n",
    "        if query==arr[i]:\n",
    "            count+=1\n",
    "    print(count)"
   ]
  },
  {
   "cell_type": "markdown",
   "metadata": {},
   "source": [
    "# Array Manipulation:"
   ]
  },
  {
   "cell_type": "code",
   "execution_count": 1,
   "metadata": {},
   "outputs": [
    {
     "name": "stdout",
     "output_type": "stream",
     "text": [
      "5 3\n",
      "1 2 100\n",
      "2 5 100\n",
      "3 4 100\n",
      "200\n"
     ]
    }
   ],
   "source": [
    "def arrayManipulation(n, queries):\n",
    "    arr = [0]*n\n",
    "    for a, b, k in queries:\n",
    "        for i in range(a-1, b):\n",
    "            arr[i] += k\n",
    "    return max(arr)\n",
    "if __name__ == '__main__':\n",
    "    nm = input().split()\n",
    "    n = int(nm[0])\n",
    "    m = int(nm[1])\n",
    "\n",
    "    queries = []\n",
    "    for _ in range(m):\n",
    "        queries.append((map(int, input().rstrip().split())))\n",
    "\n",
    "    result = arrayManipulation(n, queries)\n",
    "    print(result)"
   ]
  },
  {
   "cell_type": "markdown",
   "metadata": {},
   "source": [
    "# Minimum Swaping no.:"
   ]
  },
  {
   "cell_type": "code",
   "execution_count": 5,
   "metadata": {},
   "outputs": [
    {
     "name": "stdout",
     "output_type": "stream",
     "text": [
      "7 2 9 5 1\n",
      "[(4, 1), (1, 2), (3, 5), (0, 7), (2, 9)]\n",
      "{0: False, 1: False, 2: False, 3: False, 4: False}\n",
      "3\n"
     ]
    }
   ],
   "source": [
    "arr=list(map(int,input().split()))\n",
    "n=len(arr)\n",
    "arrpos=[*enumerate(arr)]\n",
    "arrpos.sort(key = lambda it:it[1]) \n",
    "print(arrpos)\n",
    "vis = {k:False for k in range(n)} \n",
    "print(vis)\n",
    "ans = 0\n",
    "for i in range(n): \n",
    "    if vis[i] or arrpos[i][0] == i: \n",
    "        continue\n",
    "    cycle_size = 0\n",
    "    j = i \n",
    "    while not vis[j]: \n",
    "        vis[j] = True\n",
    "        j = arrpos[j][0] \n",
    "        cycle_size += 1\n",
    "    if cycle_size > 0:\n",
    "        ans += (cycle_size - 1) \n",
    "print(ans) "
   ]
  },
  {
   "cell_type": "markdown",
   "metadata": {},
   "source": [
    "# New year chaos"
   ]
  },
  {
   "cell_type": "code",
   "execution_count": 1,
   "metadata": {},
   "outputs": [
    {
     "name": "stdout",
     "output_type": "stream",
     "text": [
      "1\n",
      "6\n",
      "1 3 2 4 6 5\n",
      "2\n"
     ]
    }
   ],
   "source": [
    "def minimumBribes(q):\n",
    "    bribes = 0\n",
    "    for i in range(len(q)-1,-1,-1):\n",
    "        if q[i] - (i + 1) > 2:\n",
    "            print('Too chaotic')\n",
    "            return\n",
    "        for j in range(max(0, q[i] - 2),i):\n",
    "            if q[j] > q[i]:\n",
    "                bribes+=1\n",
    "    print(bribes)\n",
    "if __name__ == '__main__':\n",
    "    t = int(input())\n",
    "\n",
    "    for t_itr in range(t):\n",
    "        n = int(input())\n",
    "\n",
    "        q = list(map(int, input().rstrip().split()))\n",
    "\n",
    "        minimumBribes(q)\n"
   ]
  }
 ],
 "metadata": {
  "kernelspec": {
   "display_name": "Python 3",
   "language": "python",
   "name": "python3"
  },
  "language_info": {
   "codemirror_mode": {
    "name": "ipython",
    "version": 3
   },
   "file_extension": ".py",
   "mimetype": "text/x-python",
   "name": "python",
   "nbconvert_exporter": "python",
   "pygments_lexer": "ipython3",
   "version": "3.7.3"
  }
 },
 "nbformat": 4,
 "nbformat_minor": 2
}
