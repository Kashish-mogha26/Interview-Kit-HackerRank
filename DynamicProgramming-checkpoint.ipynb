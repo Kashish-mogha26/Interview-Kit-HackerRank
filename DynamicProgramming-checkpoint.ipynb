{
 "cells": [
  {
   "cell_type": "markdown",
   "metadata": {},
   "source": [
    "# Max Array sum"
   ]
  },
  {
   "cell_type": "code",
   "execution_count": 11,
   "metadata": {},
   "outputs": [
    {
     "name": "stdout",
     "output_type": "stream",
     "text": [
      "5\n",
      "3 7 4 6 5\n",
      "13\n"
     ]
    }
   ],
   "source": [
    "n=int(input())\n",
    "arr=list(map(int,input().split()))\n",
    "dp = []\n",
    "dp.append(arr[0])\n",
    "dp.append(max(arr[:2]))\n",
    "ans = max(dp)\n",
    "for a in arr[2:]:\n",
    "    dp.append(max(max(dp[-2]+a, a), ans))\n",
    "    ans = max(ans, dp[-1])\n",
    "print(ans)"
   ]
  },
  {
   "cell_type": "markdown",
   "metadata": {},
   "source": [
    "# Abbrevation"
   ]
  },
  {
   "cell_type": "code",
   "execution_count": 12,
   "metadata": {},
   "outputs": [
    {
     "name": "stdout",
     "output_type": "stream",
     "text": [
      "1\n",
      "daBcd\n",
      "ABC\n",
      "YES\n"
     ]
    }
   ],
   "source": [
    "def abbreviation(a, b):\n",
    "    m, n = len(a), len(b)\n",
    "    dp = [[False]*(m+1) for _ in range(n+1)]\n",
    "    dp[0][0] = True\n",
    "    for i in range(n+1):\n",
    "        for j in range(1,m+1):\n",
    "            if a[j-1] == b[i-1]:\n",
    "                dp[i][j] = dp[i-1][j-1]\n",
    "            elif a[j-1].upper() == b[i-1]:\n",
    "                dp[i][j] = dp[i-1][j-1] or dp[i][j-1]\n",
    "            elif a[j-1].islower():\n",
    "                dp[i][j] = dp[i][j-1]   \n",
    "    return \"YES\" if dp[n][m] else \"NO\"\n",
    "\n",
    "if __name__ == '__main__':\n",
    "    q = int(input())\n",
    "\n",
    "    for q_itr in range(q):\n",
    "        a = input()\n",
    "\n",
    "        b = input()\n",
    "\n",
    "        result = abbreviation(a, b)\n",
    "        print(result)"
   ]
  }
 ],
 "metadata": {
  "kernelspec": {
   "display_name": "Python 3",
   "language": "python",
   "name": "python3"
  },
  "language_info": {
   "codemirror_mode": {
    "name": "ipython",
    "version": 3
   },
   "file_extension": ".py",
   "mimetype": "text/x-python",
   "name": "python",
   "nbconvert_exporter": "python",
   "pygments_lexer": "ipython3",
   "version": "3.7.3"
  }
 },
 "nbformat": 4,
 "nbformat_minor": 2
}
