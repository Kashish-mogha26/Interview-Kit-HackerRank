{
 "cells": [
  {
   "cell_type": "markdown",
   "metadata": {},
   "source": [
    "# Repeated String:"
   ]
  },
  {
   "cell_type": "code",
   "execution_count": 4,
   "metadata": {},
   "outputs": [
    {
     "name": "stdout",
     "output_type": "stream",
     "text": [
      "aba\n",
      "10\n",
      "7\n"
     ]
    }
   ],
   "source": [
    "def repstring (s,n):\n",
    "    l=len(s)\n",
    "    count=0\n",
    "    remcount=0\n",
    "    rem=n%l\n",
    "    rept=n//l\n",
    "    for i in range(0,l):\n",
    "        if(s[i]==\"a\"):\n",
    "            count=count+1\n",
    "        if(s[i]==\"a\" and i<rem):\n",
    "            remcount=remcount+1\n",
    "    return((count*rept)+remcount)\n",
    "if __name__=='__main__':\n",
    "    s=input()\n",
    "    n=int(input())\n",
    "    result=repstring(s,n)\n",
    "    print(result)"
   ]
  },
  {
   "cell_type": "markdown",
   "metadata": {},
   "source": [
    "# Jumpingonclouds"
   ]
  },
  {
   "cell_type": "code",
   "execution_count": 6,
   "metadata": {},
   "outputs": [
    {
     "name": "stdout",
     "output_type": "stream",
     "text": [
      "7\n",
      "0 0 1 0 0 1 0\n",
      "4\n"
     ]
    }
   ],
   "source": [
    "def jumpingOnClouds(c,n):\n",
    "    ans = 0\n",
    "    i = 0\n",
    "    while i < n - 1:\n",
    "        if i + 2 >= n or c[i + 2] == 1:   # Not possible to make a jump of size 2\n",
    "            i = i + 1\n",
    "            ans = ans + 1\n",
    "        else:\n",
    "            i = i + 2\n",
    "            ans = ans + 1\n",
    "    return ans\n",
    "if __name__=='__main__':\n",
    "    n=int(input())\n",
    "    c=list(map(int,input().split()))\n",
    "    result=jumpingOnClouds(c,n)\n",
    "    print(result)"
   ]
  },
  {
   "cell_type": "markdown",
   "metadata": {},
   "source": [
    "# Sockmerchant"
   ]
  },
  {
   "cell_type": "code",
   "execution_count": 13,
   "metadata": {},
   "outputs": [
    {
     "name": "stdout",
     "output_type": "stream",
     "text": [
      "7\n",
      "1 2 3 1 4 2 3\n",
      "3\n"
     ]
    }
   ],
   "source": [
    "def sockMerchant(n, ar):\n",
    "    b=set(ar)\n",
    "    c=0\n",
    "    for i in b:\n",
    "        if ar.count(i)//2>=1:\n",
    "            c+=(ar.count(i)//2)\n",
    "    return(c)\n",
    "if __name__=='__main__':\n",
    "    n=int(input())\n",
    "    ar=list(map(int,input().split()))\n",
    "    result=sockMerchant(n,ar)\n",
    "    print(result)"
   ]
  },
  {
   "cell_type": "markdown",
   "metadata": {},
   "source": [
    "# Countingvalleys"
   ]
  },
  {
   "cell_type": "code",
   "execution_count": 22,
   "metadata": {},
   "outputs": [
    {
     "name": "stdout",
     "output_type": "stream",
     "text": [
      "8\n",
      "UDDDUDUU\n",
      "1\n"
     ]
    }
   ],
   "source": [
    "def countingValleys(n, s):\n",
    "    seaLevel = valley = 0\n",
    "\n",
    "    for s in s:\n",
    "        if s == 'U':\n",
    "            seaLevel += 1\n",
    "        else:\n",
    "            seaLevel -= 1\n",
    "       \n",
    "        if s == 'U' and seaLevel == 0:\n",
    "            valley += 1\n",
    "   \n",
    "    return valley\n",
    "\n",
    "if __name__ == '__main__':\n",
    "    n = int(input())\n",
    "    s = input()\n",
    "    result = countingValleys(n, s)\n",
    "    print(result)"
   ]
  }
 ],
 "metadata": {
  "kernelspec": {
   "display_name": "Python 3",
   "language": "python",
   "name": "python3"
  },
  "language_info": {
   "codemirror_mode": {
    "name": "ipython",
    "version": 3
   },
   "file_extension": ".py",
   "mimetype": "text/x-python",
   "name": "python",
   "nbconvert_exporter": "python",
   "pygments_lexer": "ipython3",
   "version": "3.7.3"
  }
 },
 "nbformat": 4,
 "nbformat_minor": 2
}
